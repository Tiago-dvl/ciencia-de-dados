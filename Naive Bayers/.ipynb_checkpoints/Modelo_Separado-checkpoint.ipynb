{
 "cells": [
  {
   "cell_type": "code",
   "execution_count": 20,
   "id": "afbb53f8-6b60-4c7f-816a-fd5548f61409",
   "metadata": {},
   "outputs": [
    {
     "name": "stdout",
     "output_type": "stream",
     "text": [
      "Exemplo do Dataset:\n",
      "                                           avaliacao sentimento\n",
      "0  Produto excelente, adorei a qualidade e o preço.   Positivo\n",
      "1                     Muito bom! Recomendo a todos.   Positivo\n",
      "2       Entrega rápida e produto conforme esperado.   Positivo\n",
      "3       Serviço horrível, estou muito insatisfeito.   Negativo\n",
      "4                 Péssimo, não compraria novamente.   Negativo\n",
      "5    Experiência terrível, desperdício de dinheiro.   Negativo\n",
      "6                  Atendimento mediano, produto ok.     Neutro\n",
      "7     Chegou no prazo, mas não é o que eu esperava.     Neutro\n",
      "8              Funciona, mas com algumas ressalvas.     Neutro\n",
      "9          Amei! Perfeito para minhas necessidades.   Positivo\n",
      "\n",
      "Número total de avaliações: 17\n",
      "Distribuição das classes:\n",
      " sentimento\n",
      "Positivo    6\n",
      "Negativo    6\n",
      "Neutro      5\n",
      "Name: count, dtype: int64\n"
     ]
    }
   ],
   "source": [
    "import pandas as pd\n",
    "from sklearn.model_selection import train_test_split\n",
    "from sklearn.feature_extraction.text import CountVectorizer # Para converter texto em números\n",
    "from sklearn.naive_bayes import MultinomialNB\n",
    "from sklearn.metrics import accuracy_score, classification_report, confusion_matrix\n",
    "import matplotlib.pyplot as plt\n",
    "import seaborn as sns\n",
    "\n",
    "data = {\n",
    "    'avaliacao': [\n",
    "        \"Produto excelente, adorei a qualidade e o preço.\", \n",
    "        \"Muito bom! Recomendo a todos.\",\n",
    "        \"Entrega rápida e produto conforme esperado.\", \n",
    "        \"Serviço horrível, estou muito insatisfeito.\", \n",
    "        \"Péssimo, não compraria novamente.\", \n",
    "        \"Experiência terrível, desperdício de dinheiro.\", \n",
    "        \"Atendimento mediano, produto ok.\", \n",
    "        \"Chegou no prazo, mas não é o que eu esperava.\", \n",
    "        \"Funciona, mas com algumas ressalvas.\", \n",
    "        \"Amei! Perfeito para minhas necessidades.\", \n",
    "        \"Totalmente decepcionado com a compra.\", \n",
    "        \"É um produto comum, nada de especial.\", \n",
    "        \"Superou minhas expectativas, parabéns!\", \n",
    "        \"Nunca mais compro nesta loja.\", \n",
    "        \"Recebi, testei e funciona.\", \n",
    "        \"Fantástico, voltarei a comprar.\", \n",
    "        \"Que decepção, dinheiro jogado fora.\"\n",
    "    ],\n",
    "    'sentimento': [\n",
    "        'Positivo', 'Positivo', 'Positivo',\n",
    "        'Negativo', 'Negativo', 'Negativo',\n",
    "        'Neutro', 'Neutro', 'Neutro',\n",
    "        'Positivo', 'Negativo', 'Neutro',\n",
    "        'Positivo', 'Negativo', 'Neutro',\n",
    "        'Positivo', 'Negativo'\n",
    "    ]\n",
    "}\n",
    "\n",
    "df = pd.DataFrame(data)\n",
    "\n",
    "print(\"Exemplo do Dataset:\\n\", df.head(10))\n",
    "print(f\"\\nNúmero total de avaliações: {len(df)}\")\n",
    "print(\"Distribuição das classes:\\n\", df['sentimento'].value_counts())"
   ]
  },
  {
   "cell_type": "code",
   "execution_count": null,
   "id": "f77930ff-73ff-4082-a78f-39713b6f3c06",
   "metadata": {},
   "outputs": [],
   "source": []
  }
 ],
 "metadata": {
  "kernelspec": {
   "display_name": "Python 3 (ipykernel)",
   "language": "python",
   "name": "python3"
  },
  "language_info": {
   "codemirror_mode": {
    "name": "ipython",
    "version": 3
   },
   "file_extension": ".py",
   "mimetype": "text/x-python",
   "name": "python",
   "nbconvert_exporter": "python",
   "pygments_lexer": "ipython3",
   "version": "3.13.5"
  }
 },
 "nbformat": 4,
 "nbformat_minor": 5
}
