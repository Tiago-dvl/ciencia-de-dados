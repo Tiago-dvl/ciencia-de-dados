{
 "cells": [
  {
   "cell_type": "markdown",
   "id": "ae445617-3e39-49aa-ae91-5b0aa2b01fe1",
   "metadata": {},
   "source": [
    "# MATCH"
   ]
  },
  {
   "cell_type": "markdown",
   "id": "4b1e84c6-85a4-4d70-b943-db1054469a00",
   "metadata": {},
   "source": [
    "### ESTUDOS\n",
    "Os códigos abaixo foram gerados com o auxílio da ferramenta de IA Gemini, alguns parametros como nome e valor da variável foram mudados."
   ]
  },
  {
   "cell_type": "code",
   "execution_count": 18,
   "id": "74dbe45b-4ace-4509-917c-e2fd048355a6",
   "metadata": {},
   "outputs": [
    {
     "name": "stdout",
     "output_type": "stream",
     "text": [
      "Domingo\n",
      "7\n"
     ]
    }
   ],
   "source": [
    "# ESTRUTURA\n",
    "\n",
    "dia_semana = 7\n",
    "\n",
    "match dia_semana:\n",
    "    case 1:\n",
    "        print(\"Segunda\")\n",
    "    case 2:\n",
    "        print(\"Terça\")\n",
    "    case 3:\n",
    "        print(\"Quarta\")\n",
    "    case 4:\n",
    "        print(\"Quinta\")\n",
    "    case 5:\n",
    "        print(\"Sexta\")\n",
    "    case 6:\n",
    "        print(\"Sábado\")\n",
    "    case 7:\n",
    "        print(\"Domingo\")\n",
    "\n",
    "print(dia_semana)"
   ]
  },
  {
   "cell_type": "code",
   "execution_count": 23,
   "id": "8c85ab45-0245-4c4b-8721-b4eea283442d",
   "metadata": {},
   "outputs": [
    {
     "name": "stdout",
     "output_type": "stream",
     "text": [
      "Outro Numero escolhido!\n"
     ]
    }
   ],
   "source": [
    "# USANDO BLOCO PADRAO CASO NENHUMA CONRRESPONDENCIA ATENDA\n",
    "\n",
    "numero_escolhido = 40\n",
    "\n",
    "match numero_escolhido:\n",
    "    case 10:\n",
    "        print(\"Numero 10\")\n",
    "    case 20:\n",
    "        print(\"Numero 20\")\n",
    "    case 30:\n",
    "        print(\"Numero 30\")\n",
    "    case _:\n",
    "        print(\"Outro Numero escolhido!\")\n",
    "\n"
   ]
  },
  {
   "cell_type": "code",
   "execution_count": 25,
   "id": "f92fbcd7-5294-4be1-b9b7-f27345e445fa",
   "metadata": {},
   "outputs": [
    {
     "name": "stdout",
     "output_type": "stream",
     "text": [
      "Final de Semana!\n"
     ]
    }
   ],
   "source": [
    "# BLOCO COM COMBINAÇÃO DE VALORES\n",
    "\n",
    "dia_semana_numero = 6\n",
    "\n",
    "match dia_semana_numero:\n",
    "    case 1 | 2 | 3 | 4 | 5:\n",
    "        print(\"Dia de Trabalho!\")\n",
    "    case 6 | 7:\n",
    "        print(\"Final de Semana!\")"
   ]
  },
  {
   "cell_type": "code",
   "execution_count": 28,
   "id": "84ba9c4f-780e-4b16-8dfd-e38e24941373",
   "metadata": {},
   "outputs": [
    {
     "name": "stdout",
     "output_type": "stream",
     "text": [
      "Férias\n"
     ]
    }
   ],
   "source": [
    "# BLOCO COM CONDIÇÃO IF DENTRO DO CASE\n",
    "\n",
    "mes = 7\n",
    "dia = 6\n",
    "\n",
    "match dia:\n",
    "    case 1 | 2 | 3 | 4 | 5 | 6 | 7 | 8 if mes == 7:\n",
    "        print(\"Férias\")\n",
    "    case  1 | 2 | 3 | 4 | 5 | 6 | 7 | 8 if mes == 6:\n",
    "        print(\"Trabalho\")\n",
    "    case _:\n",
    "        print(\"Trabalho\")"
   ]
  },
  {
   "cell_type": "code",
   "execution_count": null,
   "id": "7be10791-4990-4fc5-9eb8-2c6d0473ba66",
   "metadata": {},
   "outputs": [],
   "source": []
  },
  {
   "cell_type": "code",
   "execution_count": null,
   "id": "7d6549b8-978a-4d3f-a560-80ab4fa4b080",
   "metadata": {},
   "outputs": [],
   "source": []
  },
  {
   "cell_type": "code",
   "execution_count": null,
   "id": "562e21ad-a910-4fd6-8eb2-4e54b1f016bb",
   "metadata": {},
   "outputs": [],
   "source": []
  }
 ],
 "metadata": {
  "kernelspec": {
   "display_name": "Python 3 (ipykernel)",
   "language": "python",
   "name": "python3"
  },
  "language_info": {
   "codemirror_mode": {
    "name": "ipython",
    "version": 3
   },
   "file_extension": ".py",
   "mimetype": "text/x-python",
   "name": "python",
   "nbconvert_exporter": "python",
   "pygments_lexer": "ipython3",
   "version": "3.13.5"
  }
 },
 "nbformat": 4,
 "nbformat_minor": 5
}
