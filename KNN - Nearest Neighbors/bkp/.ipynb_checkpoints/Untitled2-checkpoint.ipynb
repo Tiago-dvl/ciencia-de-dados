{
 "cells": [
  {
   "cell_type": "markdown",
   "id": "bcbec776-af27-4742-ae09-23b88a852922",
   "metadata": {},
   "source": [
    "# KNN - Vizinhos Mais Próximos"
   ]
  },
  {
   "cell_type": "code",
   "execution_count": 34,
   "id": "40881ec4-bc08-4141-baac-6f69ca23e68e",
   "metadata": {},
   "outputs": [
    {
     "name": "stdout",
     "output_type": "stream",
     "text": [
      "[[0 2]\n",
      " [1 2]\n",
      " [2 1]\n",
      " [3 5]\n",
      " [4 3]\n",
      " [5 3]]\n"
     ]
    }
   ],
   "source": [
    "from sklearn.neighbors import NearestNeighbors\n",
    "from sklearn.neighbors import KDTree\n",
    "import numpy as np\n",
    "\n",
    "# Conjunto de Dados em um espaço 2D\n",
    "x = np.array([[-10, -5], [-2, -1], [-3, -2], [5, 4], [7, 2], [3, 4]])\n",
    "\n",
    "# Cria e treina o Modelo \n",
    "\"\"\"\n",
    "> n_neighbors=2        : Encontrar os 2 Vizinhos mais próximos.\n",
    "> algorithm='ball_tree': O algorítimo usado para encontrar os Vizinhos.\n",
    "> .fit(x)              : Estrutura dos dado que o modelo aprende.\n",
    "\"\"\"\n",
    "vizinhos = NearestNeighbors(n_neighbors=2, algorithm='ball_tree').fit(x)\n",
    "\n",
    "\n",
    "# Encontra as Diatâncias e os Indices dos 'K' Vizinhos mais próximos para cada ponto X.\n",
    "distances, indices = vizinhos.kneighbors(x)\n",
    "print(indices)"
   ]
  },
  {
   "cell_type": "code",
   "execution_count": 35,
   "id": "ea8e8949-79c0-4bd2-8b7e-d21f6602df60",
   "metadata": {},
   "outputs": [
    {
     "name": "stdout",
     "output_type": "stream",
     "text": [
      "[[0.         7.61577311]\n",
      " [0.         1.41421356]\n",
      " [0.         1.41421356]\n",
      " [0.         2.        ]\n",
      " [0.         2.82842712]\n",
      " [0.         2.        ]]\n"
     ]
    }
   ],
   "source": [
    "print(distances)"
   ]
  },
  {
   "cell_type": "code",
   "execution_count": 36,
   "id": "01bc4172-d435-4eba-84b1-3c1a365b5c1a",
   "metadata": {},
   "outputs": [
    {
     "data": {
      "text/plain": [
       "array([[1., 0., 1., 0., 0., 0.],\n",
       "       [0., 1., 1., 0., 0., 0.],\n",
       "       [0., 1., 1., 0., 0., 0.],\n",
       "       [0., 0., 0., 1., 0., 1.],\n",
       "       [0., 0., 0., 1., 1., 0.],\n",
       "       [0., 0., 0., 1., 0., 1.]])"
      ]
     },
     "execution_count": 36,
     "metadata": {},
     "output_type": "execute_result"
    }
   ],
   "source": [
    "vizinhos.kneighbors_graph(x).toarray()"
   ]
  },
  {
   "cell_type": "code",
   "execution_count": 45,
   "id": "61d0fd7c-859d-4a6d-bfaf-67c2ccf41380",
   "metadata": {},
   "outputs": [
    {
     "data": {
      "text/plain": [
       "array([[0, 1],\n",
       "       [1, 0],\n",
       "       [2, 1],\n",
       "       [3, 4],\n",
       "       [4, 3],\n",
       "       [5, 4]])"
      ]
     },
     "execution_count": 45,
     "metadata": {},
     "output_type": "execute_result"
    }
   ],
   "source": [
    "X = np.array([[-1, -1], [-2, -1], [-3, -2], [1, 1], [2, 1], [3, 2]])\n",
    "kdt = KDTree(X, leaf_size=30, metric='euclidean')\n",
    "kdt.query(X, k=2, return_distance=False)"
   ]
  },
  {
   "cell_type": "code",
   "execution_count": 46,
   "id": "63c786cb-6f4a-4e3f-9543-5b9ec5260706",
   "metadata": {},
   "outputs": [
    {
     "data": {
      "text/plain": [
       "['euclidean',\n",
       " 'l2',\n",
       " 'minkowski',\n",
       " 'p',\n",
       " 'manhattan',\n",
       " 'cityblock',\n",
       " 'l1',\n",
       " 'chebyshev',\n",
       " 'infinity',\n",
       " 'seuclidean',\n",
       " 'mahalanobis',\n",
       " 'hamming',\n",
       " 'canberra',\n",
       " 'braycurtis',\n",
       " 'jaccard',\n",
       " 'dice',\n",
       " 'rogerstanimoto',\n",
       " 'russellrao',\n",
       " 'sokalmichener',\n",
       " 'sokalsneath',\n",
       " 'haversine',\n",
       " 'pyfunc']"
      ]
     },
     "execution_count": 46,
     "metadata": {},
     "output_type": "execute_result"
    }
   ],
   "source": [
    "from sklearn.neighbors import KDTree, BallTree\n",
    "KDTree.valid_metrics\n",
    "BallTree.valid_metrics"
   ]
  },
  {
   "cell_type": "code",
   "execution_count": null,
   "id": "163b4325-c52d-4a51-bcca-e4c7c93e29e5",
   "metadata": {},
   "outputs": [],
   "source": []
  }
 ],
 "metadata": {
  "kernelspec": {
   "display_name": "Python 3 (ipykernel)",
   "language": "python",
   "name": "python3"
  },
  "language_info": {
   "codemirror_mode": {
    "name": "ipython",
    "version": 3
   },
   "file_extension": ".py",
   "mimetype": "text/x-python",
   "name": "python",
   "nbconvert_exporter": "python",
   "pygments_lexer": "ipython3",
   "version": "3.13.5"
  }
 },
 "nbformat": 4,
 "nbformat_minor": 5
}
