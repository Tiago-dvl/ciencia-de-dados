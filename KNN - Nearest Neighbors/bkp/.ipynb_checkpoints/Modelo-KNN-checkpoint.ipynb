{
 "cells": [
  {
   "cell_type": "code",
   "execution_count": 28,
   "id": "adc7be04-ba1c-40d6-8714-7965ef3b0ae1",
   "metadata": {},
   "outputs": [
    {
     "name": "stdout",
     "output_type": "stream",
     "text": [
      "--- Dados Iniciais ---\n",
      "Formato das features (X): (100, 2)\n",
      "Formato dos rótulos (y): (100,)\n",
      "Primeiras 5 amostras de X:\n",
      "[[37.45401188 95.07143064]\n",
      " [73.19939418 59.86584842]\n",
      " [15.60186404 15.59945203]\n",
      " [ 5.80836122 86.61761458]\n",
      " [60.11150117 70.80725778]]\n",
      "Primeiros 5 rótulos de y: [1 1 0 0 1]\n",
      "\n"
     ]
    }
   ],
   "source": [
    "import numpy as np # Para manipulação de arrays numéricos\n",
    "from sklearn.model_selection import train_test_split # Para dividir os dados em treino e teste\n",
    "from sklearn.preprocessing import StandardScaler # Para escalar os dados\n",
    "from sklearn.neighbors import KNeighborsClassifier # O algoritmo KNN para classificação\n",
    "from sklearn.metrics import accuracy_score, classification_report, confusion_matrix # Métricas de avaliação\n",
    "\n",
    "# --- 1. Geração de Dados de Exemplo ---\n",
    "# Usamos dados sintéticos para demonstração.\n",
    "# Em um cenário real, você carregaria seus dados de um arquivo (CSV, banco de dados, etc.).\n",
    "# features: Duas características numéricas (ex: 'Idade', 'Renda')\n",
    "# labels: Duas classes (0 ou 1, ex: 'Cliente Fiel', 'Cliente com Risco de Evasão')\n",
    "np.random.seed(42) # Para reprodutibilidade\n",
    "X = np.random.rand(100, 2) * 100 # 100 amostras, 2 características, valores entre 0 e 100\n",
    "y = (X[:, 0] + X[:, 1] > 100).astype(int) # Uma regra simples para criar duas classes\n",
    "\n",
    "print(\"--- Dados Iniciais ---\")\n",
    "print(f\"Formato das features (X): {X.shape}\") # Ex: (100, 2)\n",
    "print(f\"Formato dos rótulos (y): {y.shape}\")   # Ex: (100,)\n",
    "print(f\"Primeiras 5 amostras de X:\\n{X[:5]}\")\n",
    "print(f\"Primeiros 5 rótulos de y: {y[:5]}\\n\")\n"
   ]
  },
  {
   "cell_type": "code",
   "execution_count": 29,
   "id": "75c98f43-935a-4214-95a5-8050b9857d54",
   "metadata": {},
   "outputs": [
    {
     "name": "stdout",
     "output_type": "stream",
     "text": [
      "--- Divisão dos Dados ---\n",
      "Formato dos dados de treino (X_train): (70, 2)\n",
      "Formato dos rótulos de treino (y_train): (70,)\n",
      "Formato dos dados de teste (X_test): (30, 2)\n",
      "Formato dos rótulos de teste (y_test): (30,)\n",
      "\n"
     ]
    }
   ],
   "source": [
    "# --- 2. Divisão dos Dados em Conjuntos de Treino e Teste ---\n",
    "# Isso é crucial para avaliar a performance do modelo em dados não vistos.\n",
    "# test_size=0.30 significa que 30% dos dados serão para teste, 70% para treino.\n",
    "# random_state garante que a divisão seja a mesma cada vez que o código for executado.\n",
    "X_train, X_test, y_train, y_test = train_test_split(X, y, test_size=0.30, random_state=42)\n",
    "\n",
    "print(\"--- Divisão dos Dados ---\")\n",
    "print(f\"Formato dos dados de treino (X_train): {X_train.shape}\")\n",
    "print(f\"Formato dos rótulos de treino (y_train): {y_train.shape}\")\n",
    "print(f\"Formato dos dados de teste (X_test): {X_test.shape}\")\n",
    "print(f\"Formato dos rótulos de teste (y_test): {y_test.shape}\\n\")"
   ]
  },
  {
   "cell_type": "code",
   "execution_count": 30,
   "id": "a26744bd-3f0e-48e5-beb0-0b9256457ee9",
   "metadata": {},
   "outputs": [
    {
     "name": "stdout",
     "output_type": "stream",
     "text": [
      "--- Dados Escalonados ---\n",
      "Primeiras 5 amostras de X_train_scaled:\n",
      "[[-0.55825816 -0.46668148]\n",
      " [ 0.93884271 -0.01941778]\n",
      " [ 0.64680666 -1.6943093 ]\n",
      " [-1.19500306 -1.06467323]\n",
      " [ 1.08346504  0.19610066]]\n",
      "\n"
     ]
    }
   ],
   "source": [
    "# --- 3. Escalonamento dos Dados (Padronização) ---\n",
    "# O KNN calcula distâncias, então características com escalas diferentes\n",
    "# podem distorcer os resultados. O StandardScaler transforma os dados para\n",
    "# terem média 0 e desvio padrão 1.\n",
    "# É importante AJUSTAR (fit) o scaler APENAS nos dados de TREINO para evitar vazamento de dados.\n",
    "# E DEPOIS TRANSFORMAR (transform) ambos os conjuntos (treino e teste).\n",
    "scaler = StandardScaler()\n",
    "X_train_scaled = scaler.fit_transform(X_train)\n",
    "X_test_scaled = scaler.transform(X_test)\n",
    "\n",
    "print(\"--- Dados Escalonados ---\")\n",
    "print(f\"Primeiras 5 amostras de X_train_scaled:\\n{X_train_scaled[:5]}\\n\")"
   ]
  },
  {
   "cell_type": "code",
   "execution_count": 32,
   "id": "d778e431-ba6d-4067-bbd5-2fe944f14176",
   "metadata": {},
   "outputs": [
    {
     "name": "stdout",
     "output_type": "stream",
     "text": [
      "--- Modelo KNN Treinado ---\n",
      "\n"
     ]
    }
   ],
   "source": [
    "# --- 4. Criação e Treinamento do Modelo KNN ---\n",
    "# n_neighbors (K): Este é o número de vizinhos a serem considerados.\n",
    "# É um hiperparâmetro crucial e pode ser ajustado.\n",
    "# (Parâmetro mínimo, mas ajustável: n_neighbors=5 é um bom ponto de partida)\n",
    "#\n",
    "# Outros parâmetros comuns (para ajuste futuro):\n",
    "# - weights: 'uniform' (todos os vizinhos têm o mesmo peso) ou 'distance' (vizinhos mais próximos pesam mais).\n",
    "# - algorithm: 'auto', 'ball_tree', 'kd_tree', 'brute' (método para encontrar os vizinhos).\n",
    "# - metric: 'euclidean', 'manhattan', 'minkowski' (tipo de distância a ser usada).\n",
    "knn_model = KNeighborsClassifier(n_neighbors=5) # n_neighbors é o K\n",
    "# 'Treinar' o modelo significa que ele memoriza os dados de treino escalados e seus rótulos.\n",
    "knn_model.fit(X_train_scaled, y_train)\n",
    "\n",
    "print(\"--- Modelo KNN Treinado ---\\n\")"
   ]
  },
  {
   "cell_type": "code",
   "execution_count": 33,
   "id": "0de38c70-918b-43d5-87d9-22f8c2246545",
   "metadata": {},
   "outputs": [
    {
     "name": "stdout",
     "output_type": "stream",
     "text": [
      "--- Previsões Realizadas ---\n",
      "Primeiras 10 previsões (y_pred): [0 1 1 0 1 0 0 0 0 1]\n",
      "Primeiros 10 rótulos reais (y_test): [0 1 1 0 1 0 0 1 0 1]\n",
      "\n"
     ]
    }
   ],
   "source": [
    "# --- 5. Realização de Previsões no Conjunto de Teste ---\n",
    "# Usamos o modelo treinado para prever os rótulos do conjunto de teste.\n",
    "y_pred = knn_model.predict(X_test_scaled)\n",
    "\n",
    "print(\"--- Previsões Realizadas ---\")\n",
    "print(f\"Primeiras 10 previsões (y_pred): {y_pred[:10]}\")\n",
    "print(f\"Primeiros 10 rótulos reais (y_test): {y_test[:10]}\\n\")"
   ]
  },
  {
   "cell_type": "code",
   "execution_count": 34,
   "id": "69cc5ea1-84e1-4530-b19e-763c36ef8437",
   "metadata": {},
   "outputs": [
    {
     "name": "stdout",
     "output_type": "stream",
     "text": [
      "Acurácia do Modelo: 0.9667\n",
      "\n"
     ]
    }
   ],
   "source": [
    "# --- 6. Avaliação do Desempenho do Modelo ---\n",
    "# Comparamos as previsões com os rótulos reais para entender a performance.\n",
    "\n",
    "# Acurácia: Proporção de previsões corretas.\n",
    "accuracy = accuracy_score(y_test, y_pred)\n",
    "print(f\"Acurácia do Modelo: {accuracy:.4f}\\n\")"
   ]
  },
  {
   "cell_type": "code",
   "execution_count": 35,
   "id": "2fa0c9a1-8bd2-4585-b8b8-8fc28d0023a0",
   "metadata": {},
   "outputs": [
    {
     "name": "stdout",
     "output_type": "stream",
     "text": [
      "--- Relatório de Classificação ---\n",
      "              precision    recall  f1-score   support\n",
      "\n",
      "           0       0.94      1.00      0.97        15\n",
      "           1       1.00      0.93      0.97        15\n",
      "\n",
      "    accuracy                           0.97        30\n",
      "   macro avg       0.97      0.97      0.97        30\n",
      "weighted avg       0.97      0.97      0.97        30\n",
      "\n"
     ]
    }
   ],
   "source": [
    "# Relatório de Classificação: Fornece Precisão, Recall e F1-Score para cada classe.\n",
    "# Precisão: Dos que foram previstos como positivos, quantos são realmente positivos.\n",
    "# Recall: Dos que são realmente positivos, quantos foram corretamente identificados.\n",
    "# F1-Score: Média harmônica entre Precisão e Recall.\n",
    "print(\"--- Relatório de Classificação ---\")\n",
    "print(classification_report(y_test, y_pred))"
   ]
  },
  {
   "cell_type": "code",
   "execution_count": 36,
   "id": "e71d7458-ff4f-44ba-b540-fc14738c5bd1",
   "metadata": {},
   "outputs": [
    {
     "name": "stdout",
     "output_type": "stream",
     "text": [
      "--- Matriz de Confusão ---\n",
      "[[15  0]\n",
      " [ 1 14]]\n"
     ]
    }
   ],
   "source": [
    "# Matriz de Confusão: Tabela que mostra os acertos e erros do modelo.\n",
    "# Linhas: Classes Reais; Colunas: Classes Previstas\n",
    "# [[Verdadeiro Negativo, Falso Positivo],\n",
    "#  [Falso Negativo, Verdadeiro Positivo]]\n",
    "print(\"--- Matriz de Confusão ---\")\n",
    "print(confusion_matrix(y_test, y_pred))"
   ]
  },
  {
   "cell_type": "code",
   "execution_count": 39,
   "id": "ff0c60cb-0da6-414a-a325-26cf636cd30d",
   "metadata": {},
   "outputs": [
    {
     "name": "stdout",
     "output_type": "stream",
     "text": [
      "\n",
      "--- Previsão para um Novo Ponto de Dados ---\n",
      "Novo dado: [100  70]\n",
      "Previsão para o novo dado (0 ou 1): 1\n",
      "Probabilidade da Classe 0 (ex: 'Fiel'): 0.0000\n",
      "Probabilidade da Classe 1 (ex: 'Evasão'): 1.0000\n"
     ]
    }
   ],
   "source": [
    "\n",
    "# --- Exemplo de Previsão para um Novo Ponto de Dados ---\n",
    "# Digamos que temos um novo cliente com 'Idade'=60 e 'Renda'=70.\n",
    "novo_dado = np.array([[100, 70]])\n",
    "\n",
    "# Importante: Escalar o novo dado usando o MESMO scaler que foi ajustado nos dados de treino.\n",
    "novo_dado_escalado = scaler.transform(novo_dado)\n",
    "\n",
    "# Fazer a previsão para o novo dado\n",
    "nova_previsao = knn_model.predict(novo_dado_escalado)\n",
    "\n",
    "# Obter as probabilidades para cada classe (opcional)\n",
    "# Onde [0,1] significa [probabilidade da classe 0, probabilidade da classe 1]\n",
    "nova_probabilidade = knn_model.predict_proba(novo_dado_escalado)\n",
    "\n",
    "print(\"\\n--- Previsão para um Novo Ponto de Dados ---\")\n",
    "print(f\"Novo dado: {novo_dado[0]}\")\n",
    "print(f\"Previsão para o novo dado (0 ou 1): {nova_previsao[0]}\")\n",
    "print(f\"Probabilidade da Classe 0 (ex: 'Fiel'): {nova_probabilidade[0][0]:.4f}\")\n",
    "print(f\"Probabilidade da Classe 1 (ex: 'Evasão'): {nova_probabilidade[0][1]:.4f}\")"
   ]
  },
  {
   "cell_type": "code",
   "execution_count": 40,
   "id": "fa690d79-324e-4b1b-955d-2bbf5b99be4e",
   "metadata": {},
   "outputs": [
    {
     "name": "stdout",
     "output_type": "stream",
     "text": [
      "O novo dado é classificado como: Classe 1 (ex: Cliente com Risco de Evasão)\n"
     ]
    }
   ],
   "source": [
    "\n",
    "if nova_previsao[0] == 0:\n",
    "    print(\"O novo dado é classificado como: Classe 0 (ex: Cliente Fiel)\")\n",
    "else:\n",
    "    print(\"O novo dado é classificado como: Classe 1 (ex: Cliente com Risco de Evasão)\")"
   ]
  },
  {
   "cell_type": "code",
   "execution_count": null,
   "id": "bd6f9763-5b06-4368-9345-af9a544bbd3e",
   "metadata": {},
   "outputs": [],
   "source": []
  }
 ],
 "metadata": {
  "kernelspec": {
   "display_name": "Python 3 (ipykernel)",
   "language": "python",
   "name": "python3"
  },
  "language_info": {
   "codemirror_mode": {
    "name": "ipython",
    "version": 3
   },
   "file_extension": ".py",
   "mimetype": "text/x-python",
   "name": "python",
   "nbconvert_exporter": "python",
   "pygments_lexer": "ipython3",
   "version": "3.13.5"
  }
 },
 "nbformat": 4,
 "nbformat_minor": 5
}
